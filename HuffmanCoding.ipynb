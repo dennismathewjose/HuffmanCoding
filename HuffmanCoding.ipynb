{
 "cells": [
  {
   "cell_type": "markdown",
   "metadata": {},
   "source": [
    "## Generating huffman code for a source of information."
   ]
  },
  {
   "cell_type": "code",
   "execution_count": 1,
   "metadata": {},
   "outputs": [],
   "source": [
    "#implementation of a binary tree\n",
    "class Tree:\n",
    "    def __init__(self, prob, symbol, left = None, right = None):\n",
    "        \n",
    "        #assigning probability\n",
    "        self.prob = prob\n",
    "\n",
    "        #assigning symbol in the node\n",
    "        self.symbol = symbol\n",
    "\n",
    "        #left node\n",
    "        self.left = left\n",
    "\n",
    "        #right node\n",
    "        self.right = right\n",
    "\n",
    "        #representing 0 or 1\n",
    "        self.code = ''"
   ]
  },
  {
   "cell_type": "markdown",
   "metadata": {},
   "source": [
    "## Assigning the corresponding code to the branch"
   ]
  },
  {
   "cell_type": "code",
   "execution_count": 2,
   "metadata": {},
   "outputs": [],
   "source": [
    "#to assign the codes according to the node\n",
    "codes = dict()\n",
    "def set_codes(tree, val=''):\n",
    "    newVal = val + str(tree.code)\n",
    "\n",
    "    if(tree.left):\n",
    "        set_codes(tree.left, newVal)\n",
    "    if(tree.right):\n",
    "        set_codes(tree.right, newVal)\n",
    "    \n",
    "    if(not tree.left and not tree.right):\n",
    "        codes[tree.symbol] = newVal\n",
    "    \n",
    "    return codes\n",
    "\n",
    "#to join the codes together \n",
    "def output(info, out_code):\n",
    "    enc_out = []\n",
    "    for code in info:\n",
    "        enc_out.append(out_code[code])\n",
    "    \n",
    "    encoded_output = ''.join([str(item) for item in enc_out])\n",
    "    return encoded_output"
   ]
  },
  {
   "cell_type": "code",
   "execution_count": 3,
   "metadata": {},
   "outputs": [],
   "source": [
    "#convert the probabilitis and symbols to huffman tree\n",
    "def huffman_Coding(data):\n",
    "    symbols = data.keys() #accessing the symbols\n",
    "    probability = data.values() #accessing the probabilities\n",
    "    print('symbols : ',symbols)\n",
    "    print('probability :',probability)\n",
    "\n",
    "    nodes = []\n",
    "    for symbol in symbols:\n",
    "        nodes.append(Tree(data.get(symbol),symbol))\n",
    "\n",
    "    while len(nodes) > 1:\n",
    "        nodes = sorted(nodes, key = lambda x: x.prob)\n",
    "        \n",
    "        #for elements in nodes:\n",
    "        #   print(elements.symbol, elements.prob)\n",
    "\n",
    "        #selecting the last 2 nodes (since they have the smallest probability)\n",
    "        right = nodes[0]\n",
    "        left = nodes[1]\n",
    "\n",
    "        left.code = 0\n",
    "        right.code = 1\n",
    "\n",
    "        newNode = Tree(left.prob+right.prob, left.symbol+right.symbol, left, right)\n",
    "\n",
    "        nodes.remove(left)\n",
    "        nodes.remove(right)\n",
    "        nodes.append(newNode)\n",
    "\n",
    "    encoding = set_codes(nodes[0])\n",
    "    print('symbols with their codes : ', encoding)\n",
    "    encoded_output = output(data,encoding)\n",
    "\n",
    "    return encoded_output,nodes[0]\n",
    "\n"
   ]
  },
  {
   "cell_type": "code",
   "execution_count": 4,
   "metadata": {},
   "outputs": [
    {
     "name": "stdout",
     "output_type": "stream",
     "text": [
      "enter the symbols and their probabilities\n",
      "symbols :  dict_keys(['s1', 's2', 's3'])\n",
      "probability : dict_values([0.5, 0.33333333333333, 0.16666666666666])\n",
      "symbols with their codes :  {'s1': '0', 's2': '10', 's3': '11'}\n",
      "encoded output :  01011\n"
     ]
    }
   ],
   "source": [
    "#main function where we are supposed to enter the symbol and corresponding probability.\n",
    "n = int(input('Enter the number of symbols'))\n",
    "data = dict()\n",
    "print(\"enter the symbols and their probabilities\")\n",
    "for i in range(n):\n",
    "    s, p = input(), float(input())\n",
    "    data.update({s:p})\n",
    "encoded_out,branch = huffman_Coding(data)\n",
    "print('encoded output : ', encoded_out)"
   ]
  },
  {
   "cell_type": "markdown",
   "metadata": {},
   "source": [
    "## Decoding the huffman code"
   ]
  },
  {
   "cell_type": "code",
   "execution_count": 5,
   "metadata": {},
   "outputs": [
    {
     "name": "stdout",
     "output_type": "stream",
     "text": [
      "decoded ouput :  s1s2s3\n"
     ]
    }
   ],
   "source": [
    "#huffman code decoding part\n",
    "\n",
    "def huffman_Decode(encoded_output,node):\n",
    "    tree = node\n",
    "    tree_head = tree\n",
    "    decoded_output = []\n",
    "    for code in encoded_output:\n",
    "        if code == '1':\n",
    "            tree = tree.right\n",
    "        elif code == '0':\n",
    "            tree = tree.left\n",
    "        try:\n",
    "            if tree.left.symbol == None and tree.right.symbol == None:\n",
    "                pass\n",
    "        except AttributeError:\n",
    "            decoded_output.append(tree.symbol)\n",
    "            tree = tree_head\n",
    "\n",
    "    decode_out = ''.join([str(item) for item in decoded_output])\n",
    "    return decode_out\n",
    "\n",
    "    #to find the entropy of the code\n",
    "\n",
    "print('decoded ouput : ',huffman_Decode(encoded_out,branch))\n"
   ]
  }
 ],
 "metadata": {
  "interpreter": {
   "hash": "7aae1d4edbb320f9a7f103aceabe9345e2a46947454e579ed80ec9d114fce4dd"
  },
  "kernelspec": {
   "display_name": "Python 3.9.12 ('base')",
   "language": "python",
   "name": "python3"
  },
  "language_info": {
   "codemirror_mode": {
    "name": "ipython",
    "version": 3
   },
   "file_extension": ".py",
   "mimetype": "text/x-python",
   "name": "python",
   "nbconvert_exporter": "python",
   "pygments_lexer": "ipython3",
   "version": "3.9.12"
  },
  "orig_nbformat": 4
 },
 "nbformat": 4,
 "nbformat_minor": 2
}
